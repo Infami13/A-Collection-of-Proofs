{
 "cells": [
  {
   "cell_type": "markdown",
   "id": "552b4ee7-498f-467e-9b69-9caf4c17bd56",
   "metadata": {},
   "source": [
    "# Chapter 1"
   ]
  },
  {
   "cell_type": "markdown",
   "id": "0e3bec7b-c5ae-450d-9f17-22120a8b5bf8",
   "metadata": {},
   "source": [
    "## Exercise 1\n",
    "\n",
    "If $r$ is rational $(r \\ne 0)$ and $x$ is irrational, prove that $r+x$ and $rx$ are irrational.\n",
    "\n",
    "*Proof.* We first handle the case of $r+x$. Suppose to the contrary $r+x$ is rational. Seeing $r \\in \\mathbb{Q}$, we have $-r \\in \\mathbb{Q}$. Given $r+x \\in \\mathbb{Q}$ and $-r \\in \\mathbb{Q}$, then $-r + (r+x) = x$ is also in $\\mathbb{Q}$. But this contradicts our hypothesis that $x$ is irrrational, so $r+x$ must be irrational.\n",
    "\n",
    "Analogously, suppose $rx$ is rational. Given $r \\in \\mathbb{Q}$ and $r \\ne 0$, we have $r^{-1} \\in \\mathbb{Q}$. Similarly, $r^{-1}(rx) = x$ is in $\\mathbb{Q}$, a contradiction. So, $rx$ must be irrational."
   ]
  },
  {
   "cell_type": "markdown",
   "id": "5f4e5ba9-3e51-4ab4-901c-52eef93d4501",
   "metadata": {},
   "source": [
    "## Exercise 2\n",
    "Prove that there is no rational number whose square is $12$.\n",
    "\n",
    "**Lemma.** If $3$ divides $a^2$, then $3$ divides $a$.\n",
    "\n",
    "*Proof.* We will prove our lemma through contraposition. Suppose $3$ does not divide $a$, then $a = 3q + r$ for unique integers $q$ and $r$ such that $0 < r < 3$. That is, $r = 1$ or $r = 2$. In the case $r = 1$, we have\n",
    "\n",
    "$$a^2 = (3q+1)^2 = 3^2q^2 + 6q + 1 = 3(3q^2 + 2q) + 1$$\n",
    "\n",
    "and $3$ does not divide $a^2$. In the case $r = 2$, then\n",
    "\n",
    "$$a^2 = (3q+2)^2 = 3^2q^2 + 12q + 4 = 3(3q^2 + 4q + 1) + 1$$\n",
    "\n",
    "and $3$ does not divide $a^2$. Overall, if $3$ does not divide $a$, then $3$ does not divide $a^2$. Equivalently, $3$ divides $a^2$ implies $3$ divides $a$.\n",
    "\n",
    "**Theorem.** There is no rational whose square is $12$.\n",
    "\n",
    "*Proof.* Suppose to the contrary $\\sqrt{12}$ is rational. Then we may express $\\sqrt{12}$ as a fraction $\\frac{a}{b}$, where $a$ and $b$ are coprime. Further, we have $a^2 = 12b^2 = 3(4b^2)$, so $3$ divides $a^2$ and consequently divides $a$ as well, by our lemma. So, $a^2 = (3n)(3n) = 3(3n^2)$ for some integer $n$. That is, $3(3n^2) = 3(4b^2)$. By cancellation, $3n^2 = 4b^2$ and $3$ divides $4b^2$. Seeing that $3$ does not divide $4$ and $3$ is prime, then $3$ must divide $b^2$ by Euclid's Lemma. In turn, by our lemma, $3$ divides $b$. As such, $3$ is a common divisor of $a$ and $b$, a contradiction to the fact that $a$ and $b$ are coprime. It then must be $\\sqrt{12}$ is irrational."
   ]
  },
  {
   "cell_type": "markdown",
   "id": "a4c70ecf-9e9b-4c57-a8df-eca4062dee10",
   "metadata": {},
   "source": [
    "## Exercise 3\n",
    "\n",
    "Prove Proposition 1.15.\n",
    "\n",
    "(*a*) If $x \\ne 0$ and $xy = xz$ then $y=z$.\n",
    "\n",
    "*Proof*. Given $x$ is a member of a field, say $F$, and $x \\ne 0$ then there exists a $x^{-1} \\in F$ such that $xx^{-1}=x^{-1}x=1$, where $1$ is multiplicative identity of $F$. We then have $x^{-1}(xy) = x^{-1}(xz)$. By associativity, $(x^{-1}x)y = (x^{-1}x)z$, which simplifies to $1y = 1z$. With $1$ as our mulitiplicative identity, $y=z$.\n",
    "\n",
    "(*b*) If $x \\ne 0$ and $xy = x$ then $y = 1$.\n",
    "\n",
    "*Proof*. We start by multiplying on the left by $x^{-1}$ so that $x^{-1}(xy) = x^{-1}x$. Following a similar process as before, we find $y = 1$.\n",
    "\n",
    "(*c*) If $x \\ne 0$ and $xy = 1$ then $y = x^{-1}$.\n",
    "\n",
    "*Proof*. Again, we multiplying on the left by $x^{-1}$ and analogous to before, we find $y = x^{-1}$ or $y = 1/x$.\n",
    "\n",
    "(*d*) If $x \\ne 0$ then $1/(1/x) = x$.\n",
    "\n",
    "*Proof*. Let $u = 1/x$. Then, $ux = 1$. Multiplying on the left by $1/u$ and using a combination of associativity, inverse, and identity law, we find $x = 1/u$. By our definition of $u$, we have $x = 1/(1/x)$."
   ]
  },
  {
   "cell_type": "markdown",
   "id": "aa66ad8b-318c-4a7b-8c07-0d5fe35dfa7f",
   "metadata": {},
   "source": [
    "# Exercise 4\n",
    "\n",
    "Let $E$ be a nonempty subset of an ordered set; suppose $\\alpha$ is a lower bound of $E$ and $\\beta$ is an upper bound of $E$. Prove that $\\alpha \\le \\beta.$\n",
    "\n",
    "*Proof*. Given $\\alpha$ is a lower bound of $E$, we have $\\alpha \\le x$ for every $x \\in E$. In particular, with $E$ non-empty, take $e \\in E$. We have $\\alpha \\le e$. Further, with $\\beta$ as a upper bound of $E$, then $x \\le \\beta$ for every $x \\in E$. Specifically, $e \\le \\beta$. Overall, we see that $\\alpha \\le e \\le \\beta$. More simply, $\\alpha \\le \\beta$."
   ]
  },
  {
   "cell_type": "markdown",
   "id": "b7659a19-b5ff-4941-8350-51b95fea0d13",
   "metadata": {},
   "source": [
    "# Exercise 5\n",
    "\n",
    "Let $A$ be a nonempty set of real numbers which is bounded below. Let $-A$ be the set of all numbers $-x$, where $x \\in A$. Prove that\n",
    "\n",
    "$$\\inf A = -\\sup (-A).$$\n",
    "\n",
    "*Proof.* "
   ]
  },
  {
   "cell_type": "code",
   "execution_count": null,
   "id": "eea859a9-4a34-47a2-9c00-43e9a07fd925",
   "metadata": {},
   "outputs": [],
   "source": []
  }
 ],
 "metadata": {
  "kernelspec": {
   "display_name": "Python 3 (ipykernel)",
   "language": "python",
   "name": "python3"
  },
  "language_info": {
   "codemirror_mode": {
    "name": "ipython",
    "version": 3
   },
   "file_extension": ".py",
   "mimetype": "text/x-python",
   "name": "python",
   "nbconvert_exporter": "python",
   "pygments_lexer": "ipython3",
   "version": "3.11.4"
  }
 },
 "nbformat": 4,
 "nbformat_minor": 5
}
