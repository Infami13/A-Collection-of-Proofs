{
 "cells": [
  {
   "cell_type": "markdown",
   "id": "a75480c3-806b-43f5-b42c-54dd7d29914d",
   "metadata": {},
   "source": [
    "# Chapter 12"
   ]
  },
  {
   "cell_type": "markdown",
   "id": "1c59897e-d83b-4b42-b2f6-a3c40916b370",
   "metadata": {},
   "source": [
    "## Exercise 46\n",
    "\n",
    "Show that $2Z \\cup 3Z$ is not a subring of $Z$.\n",
    "\n",
    "*Solution*. To show that $2Z \\cup 3Z$ is not a subring of $Z$, it suffices to show that $2Z \\cup 3Z$ is not a ring under ordinary addition and multiplication. With intent of surveying addition, note that $2 \\in 2Z$ and $3 \\in 3Z$, so $2, 3 \\in 2Z \\cup 3Z$. However, $2 + 3 = 5 \\notin 2Z$ and $2 + 3 = 5 \\notin 3Z$, so $(2 + 3) \\notin 2Z \\cup 3Z$. That is, $2Z \\cup 3Z$ does not satisfy the requirement of closure under addition to qualify as a ring."
   ]
  },
  {
   "cell_type": "markdown",
   "id": "ff9595cd-02a1-42c9-8195-d00648e77474",
   "metadata": {},
   "source": [
    "## Exercise 50\n",
    "Suppose that $R$ is a ring and that $a^2 = a$ for all $a$ in $R$. Show that $R$ is commutative. \\[A ring in which $a^2 = a$ for all $a$ is called a *Boolean* ring, in honor of the English mathematician George Boole (1815-1864).\\]\n",
    "\n",
    "*Solution.* Let $a \\in R$. Note that $-a = (-a)^2 = a$. That is to say, each element in $R$ is its own additive inverse.\n",
    "\n",
    "Simultaneously, let $b \\in R$, then $(a + b) \\in R$. By our hypothesis on $R$, we have $(a + b)^2 = (a + b)$. It follows\n",
    "\n",
    "$$\n",
    "\\begin{align}\n",
    "(a + b) &= (a + b)(a + b) \\\\\n",
    "&= (a + b)a + (a + b)b \\\\\n",
    "&= a^2 + ba + ab + b^2 \\\\\n",
    "&= a + ba + ab + b.\n",
    "\\end{align}\n",
    "$$\n",
    "\n",
    "By subtracting $a$ and $b$ from both sides, we have\n",
    "\n",
    "$$\n",
    "\\begin{align}\n",
    "0 &= ba + ab \\\\\n",
    "-(ab) &= ba \\\\\n",
    "ab &= ba\n",
    "\\end{align}\n",
    "$$\n",
    "\n",
    "for any $a, b \\in R$."
   ]
  },
  {
   "cell_type": "markdown",
   "id": "14f84415-b0c6-40d4-9363-ff2efee6ec09",
   "metadata": {},
   "source": [
    "## Exercise 51\n",
    "\n",
    "Give an example of a Boolean ring with four elements. Give an example of an infinite Boolean ring.\n",
    "\n",
    "*Solution.* For a Boolean ring of order 4, consider the following set\n",
    "\n",
    "$$R = \\left\\{\\begin{bmatrix} a & 0 \\\\ 0 & b \\end{bmatrix} : a, b \\in Z_2\\right\\}$$\n",
    "\n",
    "equipped with ordinary matrix addition and multiplication, where entry arithmetic is done modulo 2.\n",
    "\n",
    "For a Boolean ring of infinite order, consider the natural numbers $\\mathbb{N}$ (with $0 \\in \\mathbb{N}$) equipped with bitwise XOR as the addition operator and bitwise AND as the multiplication operator. (Alternatively, $Z_2 \\oplus Z_2 \\oplus \\cdots$ with the same operators.)"
   ]
  },
  {
   "cell_type": "markdown",
   "id": "9528576d-e6f3-482d-9d70-677c715599e6",
   "metadata": {},
   "source": [
    "## Exercise 52\n",
    "\n",
    "If $a, b,$ and $c$ are elements of a ring, does the equation $ax + b = c$ always have a solution $x$? If it does, must the solution be unique? Answer the same questions given $a$ is a unit.\n",
    "\n",
    "*Solution*. In the general case where $a$ is not necessarily a unit, take the ring $Z_4$ with $a = 2$, $b = 0$, and $c = 3$. We then have $2x + 0 = 3$, or $2x = 3$. However,\n",
    "$$\n",
    "\\begin{align}\n",
    "2 \\cdot 0 &= 0 \\\\\n",
    "2 \\cdot 1 &= 2 \\\\\n",
    "2 \\cdot 2 &= 0 \\\\\n",
    "2 \\cdot 3 &= 2.\n",
    "\\end{align}\n",
    "$$\n",
    "\n",
    "That is, there is no $x \\in Z_4$ that satisfies $2x = 3$ and the equation $ax + b = c$ does not always have a solution.\n",
    "\n",
    "We now examine the case when $a$ is a unit. To show a solution exists, notice\n",
    "\n",
    "$$\n",
    "\\begin{align}\n",
    "ax + b &= c \\\\\n",
    "ax &= c - b \\\\\n",
    "x &= a^{-1}(c - b).\n",
    "\\end{align}\n",
    "$$\n",
    "\n",
    "To show this solution is unique, suppose we have $ax + b = c$ and $ax' + b =c$. Then\n",
    "\n",
    "$$\n",
    "\\begin{align}\n",
    "ax + b &= ax' + b \\\\\n",
    "ax &= ax' \\\\\n",
    "x &= x'.\n",
    "\\end{align}\n",
    "$$\n"
   ]
  },
  {
   "cell_type": "markdown",
   "id": "dab077a2-48d4-49e0-aac3-5c8769495d5d",
   "metadata": {},
   "source": [
    "## Exercise 54\n",
    "\n",
    "Show that $4x^2 + 6x + 3$ is a unit in $Z_8[x]$.\n",
    "\n",
    "*Solution.* To show $p(x) = 4x^2 + 6x + 3$ is a unit in $Z_8[x]$, it suffices to show there is some $q(x) \\in Z_8[x]$ such that $p(x)q(x) = 1$. Take $q(x) = 2x + 3$. Indeed\n",
    "\n",
    "$$\n",
    "\\begin{align}\n",
    "p(x)q(x) &= (4x^2 + 6x + 3)(2x + 3) \\\\\n",
    "&= (4x^2 + 6x + 3)2x + (4x^2 + 6x + 3)3 \\\\\n",
    "&= 0x^3 + 4x^2 + 6x + 4x^2 + 2x + 1 \\\\\n",
    "&= 0x^3 + 0x^2 + 0x + 1 \\\\\n",
    "&= 1.\n",
    "\\end{align}\n",
    "$$"
   ]
  },
  {
   "cell_type": "code",
   "execution_count": null,
   "id": "c38f0e84-5816-4cb0-b360-0a51a87cfacc",
   "metadata": {},
   "outputs": [],
   "source": []
  }
 ],
 "metadata": {
  "kernelspec": {
   "display_name": "Python 3 (ipykernel)",
   "language": "python",
   "name": "python3"
  },
  "language_info": {
   "codemirror_mode": {
    "name": "ipython",
    "version": 3
   },
   "file_extension": ".py",
   "mimetype": "text/x-python",
   "name": "python",
   "nbconvert_exporter": "python",
   "pygments_lexer": "ipython3",
   "version": "3.11.4"
  }
 },
 "nbformat": 4,
 "nbformat_minor": 5
}
