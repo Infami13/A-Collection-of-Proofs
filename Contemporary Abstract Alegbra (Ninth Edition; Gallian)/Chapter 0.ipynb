{
 "cells": [
  {
   "cell_type": "markdown",
   "id": "1848c388-da8c-44c8-99d2-2c578a14f65f",
   "metadata": {},
   "source": [
    "# Chapter 0"
   ]
  },
  {
   "cell_type": "markdown",
   "id": "1e516287-f9cf-4826-a095-891717d4d1ce",
   "metadata": {},
   "source": [
    "## Exercise 5\n",
    "\n",
    "Show that if $a$ and $b$ are positive integers, then $ab = \\text{lcm}(a, b) \\cdot \\text{gcd}(a, b)$.\n",
    "\n",
    "### Lemma 1\n",
    "\n",
    "Let $a = p_1^{\\alpha_1} \\cdots p_k^{\\beta_k}$ and $b = p_1^{\\beta_1} \\cdots p_k^{\\beta_k}$ be positive integers, where each $\\alpha_i$ and $\\beta_i$ is a non-negative integer. Then\n",
    "\n",
    "$$\n",
    "\\begin{align}\n",
    "\\text{gcd}(a, b) &= p_1^{\\text{min}(\\alpha_1, \\beta_1)} \\cdots p_k^{\\text{min}(\\alpha_k, \\beta_k)} \\\\\n",
    "\\text{lcm}(a, b) &= p_1^{\\text{max}(\\alpha_1, \\beta_1)} \\cdots p_k^{\\text{max}(\\alpha_k, \\beta_k)}.\n",
    "\\end{align}\n",
    "$$\n",
    "\n",
    "*Proof.*  Let $d=p_1^{\\text{min}(\\alpha_1, \\beta_1)} \\cdots p_k^{\\text{min}(\\alpha_k, \\beta_k)}$. Further, let $\\mu_i = \\text{min}(\\alpha_i, \\beta_i)$ for each $i$. To show $d | a$, note that $\\mu_i \\le \\alpha_i$, so there is some non-negative integer $\\gamma_i$ such that $\\mu_i + \\gamma_i = \\alpha_i$. Setting $c := p_1^{\\gamma_1} \\cdots p_k^{\\gamma_k}$, this means\n",
    "\n",
    "$$\n",
    "\\begin{align}\n",
    "a &= p_1^{\\mu_1 + \\gamma_1} \\cdots p_k^{\\mu_k + \\gamma_k} \\\\\n",
    "&= (p_1^{\\mu_1} \\cdots p_k^{\\mu_k})(p_k^{\\gamma_1} \\cdots p_k^{\\gamma_k}) \\\\\n",
    "&= dc.\n",
    "\\end{align}\n",
    "$$\n",
    "\n",
    "So, $d$ divides $a$. A similar argument follows to show $d$ divides $b$. Thus, $d$ is a common divisor of $a$ and $b$.\n",
    "\n",
    "To show $d$ is the greatest common divisor, suppose $d'$ is a common divisor of $a$ and $b$ (if $d'<0$, choose $-d'> 0$ instead). This means there are integers $e$ and $f$ such that $d'e=a$ and $d'f=b$. By unique factorization, we know $d' = p_1^{\\delta_1} \\cdots p_k^{\\delta_k}$, with each $\\delta_i \\ge 0$. Similarly, $e = p_1^{\\epsilon_1} \\cdots p_k^{\\epsilon_k}$ and $f = p_1^{\\phi_1} \\cdots p_k^{\\phi_k}$ with each $\\epsilon_i \\ge 0$ and $\\phi_i \\ge 0$. Then,\n",
    "\n",
    "$$\n",
    "\\begin{align}\n",
    "d'e &= (p_1^{\\delta_1} \\cdots p_k^{\\delta_k})(p_1^{\\epsilon_1} \\cdots p_k^{\\epsilon_k}) \\\\\n",
    "&= p_1^{\\delta_1 + \\epsilon_1} \\cdots p_k^{\\delta_k + \\epsilon_k} \\\\\n",
    "&= p_1^{\\alpha_1} \\cdots p_k^{\\alpha_k} \\\\\n",
    "&= a\n",
    "\\end{align}\n",
    "$$\n",
    "\n",
    "and\n",
    "\n",
    "$$\n",
    "\\begin{align}\n",
    "d'f &= (p_1^{\\delta_1} \\cdots p_k^{\\delta_k})(p_1^{\\phi_1} \\cdots p_k^{\\phi_k}) \\\\\n",
    "&= p_1^{\\delta_1 + \\phi_1} \\cdots p_k^{\\delta_k + \\phi_k} \\\\\n",
    "&= p_1^{\\beta_1} \\cdots p_k^{\\beta_k} \\\\\n",
    "&= b.\n",
    "\\end{align}\n",
    "$$\n",
    "\n",
    "In turn, by unique factorization again, $\\delta_i + \\epsilon_i = \\alpha_i$ and $\\delta_i + \\phi_i = \\beta_i$, so $\\delta_i \\le \\alpha_i$ and $\\delta_i \\le \\beta_i$ for each $i$. It follows that $\\delta_i \\le \\mu_i$ for each $i$. Again, this implies there is some non-negative integer $\\zeta_i$ such that $\\delta_i + \\zeta_i = \\mu_i$ for each $i$. As we have already seen, this means we have some integer $z$ such that $d'z=d$, so $d'|d$. Therefore, out of all the common divisors of $a$ and $b$, we have $d$ as the greatest.\n",
    "\n",
    "A similar argument can also show $\\text{lcm}(a, b) = p_1^{\\text{max}(\\alpha_1, \\beta_1)} \\cdots p_k^{\\text{max}(\\alpha_k, \\beta_k)}$.\n",
    "\n",
    "### Lemma 2\n",
    "\n",
    "Let $x$ and $y$ be integers. Then $\\text{min}(x, y) + \\text{max}(x, y) = x + y$.\n",
    "\n",
    "*Proof.* Suppose $x \\le y$. Then $\\text{min}(x, y) = x$ and $\\text{max}(x, y) = y$. We then have $\\text{min}(x, y) + \\text{max}(x, y) = x + y$. In the alternate case $x \\gt y$, then $\\text{min}(x, y) = y$ and $\\text{max}(x, y) = x$. We again deduce $\\text{min}(x, y) + \\text{max}(x, y) = y + x = x + y$.\n",
    "\n",
    "### Solution\n",
    "\n",
    "Let $a = p_1^{\\alpha_1} \\cdots p_k^{\\beta_k}$ and $b = p_1^{\\beta_1} \\cdots p_k^{\\beta_k}$. With the help of our lemmas, we then have\n",
    "\n",
    "$$\n",
    "\\begin{align}\n",
    "ab &= (p_1^{\\alpha_1} \\cdots p_k^{\\beta_k})(p_1^{\\beta_1} \\cdots p_k^{\\beta_k}) \\\\\n",
    "   &= p_1^{\\alpha_1 + \\beta_1} \\cdots p_k^{\\alpha_k + \\beta_k} \\\\\n",
    "   &= p_1^{\\text{min}(\\alpha_1, \\beta_1) + \\text{max}(\\alpha_1, \\beta_1)} \\cdots p_k^{\\text{min}(\\alpha_k, \\beta_k) + \\text{max}(\\alpha_k, \\beta_k)} \\\\\n",
    "   &= (p_1^{\\text{max}(\\alpha_1, \\beta_1)} \\cdots p_k^{\\text{max}(\\alpha_k, \\beta_k)})(p_1^{\\text{min}(\\alpha_1, \\beta_1)} \\cdots p_k^{\\text{min}(\\alpha_k, \\beta_k)}) \\\\\n",
    "   &= \\text{lcm}(a, b) \\cdot \\text{gcd}(a, b).\n",
    "\\end{align}\n",
    "$$"
   ]
  },
  {
   "cell_type": "markdown",
   "id": "3f8132f3-1c77-4adf-8a3e-6d2caa94879d",
   "metadata": {},
   "source": [
    "## Exercise 6\n",
    "\n",
    "Suppose $a$ and $b$ are positive integers that divide the integer $c$. If $a$ and $b$ are relatively prime, show that $ab$ divides $c$. Show, by example, that if $a$ and $b$ are not relatively prime, then $ab$ need not divide $c$.\n",
    "\n",
    "### Solution\n",
    "\n",
    "Given $a \\mid c$, we have $ad = c$ for some integer $d$. Similarly, $bf = c$ for some $f$. At the same time, given $a$ and $b$ are coprime, there exists some integers $x$ and $y$ such that $ax + by = 1$. Multiplying both sides by $c$, we have $cax + cby = c$. Moreover, $cax + cby = bfax + adby = ab(fx + dy) = c$. Let $c' = fx + dy$, then $(ab)c' = c$, and $ab \\mid c$.\n",
    "\n",
    "To show $ab$ neen not divide $c$ if $a$ and $b$ are not coprime, take $a = 4$, $b = 6$, and $c = 12$ for example. Of course, $4 \\mid 12$ and $6 \\mid 12$, but $4 \\cdot 6 = 24 \\nmid 12$. That is, in this case, $ab \\nmid c$."
   ]
  }
 ],
 "metadata": {
  "kernelspec": {
   "display_name": "Python 3 (ipykernel)",
   "language": "python",
   "name": "python3"
  },
  "language_info": {
   "codemirror_mode": {
    "name": "ipython",
    "version": 3
   },
   "file_extension": ".py",
   "mimetype": "text/x-python",
   "name": "python",
   "nbconvert_exporter": "python",
   "pygments_lexer": "ipython3",
   "version": "3.11.4"
  }
 },
 "nbformat": 4,
 "nbformat_minor": 5
}
